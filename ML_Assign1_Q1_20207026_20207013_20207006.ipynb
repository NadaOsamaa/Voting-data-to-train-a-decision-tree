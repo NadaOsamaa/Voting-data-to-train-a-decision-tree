{
 "cells": [
  {
   "cell_type": "markdown",
   "id": "24fd4737",
   "metadata": {},
   "source": [
    "# Q 1:"
   ]
  },
  {
   "cell_type": "code",
   "execution_count": 97,
   "id": "3d181a1a",
   "metadata": {},
   "outputs": [],
   "source": [
    "import pandas as pd\n",
    "import numpy as np\n",
    "import matplotlib.pyplot as plt\n",
    "import seaborn  as sns\n",
    "from sklearn.model_selection import train_test_split\n",
    "from sklearn.tree import DecisionTreeClassifier\n",
    "from sklearn import tree\n",
    "\n",
    "df1 = pd.read_csv(r\"D:\\College\\Year 3 - Term 1\\Machine Learning\\assignment\\house-votes-84 (Assignment1-Q1).data\"\n",
    "                  , header=None)"
   ]
  },
  {
   "cell_type": "code",
   "execution_count": 98,
   "id": "ae6e446b",
   "metadata": {},
   "outputs": [
    {
     "data": {
      "text/html": [
       "<div>\n",
       "<style scoped>\n",
       "    .dataframe tbody tr th:only-of-type {\n",
       "        vertical-align: middle;\n",
       "    }\n",
       "\n",
       "    .dataframe tbody tr th {\n",
       "        vertical-align: top;\n",
       "    }\n",
       "\n",
       "    .dataframe thead th {\n",
       "        text-align: right;\n",
       "    }\n",
       "</style>\n",
       "<table border=\"1\" class=\"dataframe\">\n",
       "  <thead>\n",
       "    <tr style=\"text-align: right;\">\n",
       "      <th></th>\n",
       "      <th>0</th>\n",
       "      <th>1</th>\n",
       "      <th>2</th>\n",
       "      <th>3</th>\n",
       "      <th>4</th>\n",
       "      <th>5</th>\n",
       "      <th>6</th>\n",
       "      <th>7</th>\n",
       "      <th>8</th>\n",
       "      <th>9</th>\n",
       "      <th>10</th>\n",
       "      <th>11</th>\n",
       "      <th>12</th>\n",
       "      <th>13</th>\n",
       "      <th>14</th>\n",
       "      <th>15</th>\n",
       "      <th>16</th>\n",
       "    </tr>\n",
       "  </thead>\n",
       "  <tbody>\n",
       "    <tr>\n",
       "      <th>0</th>\n",
       "      <td>republican</td>\n",
       "      <td>n</td>\n",
       "      <td>y</td>\n",
       "      <td>n</td>\n",
       "      <td>y</td>\n",
       "      <td>y</td>\n",
       "      <td>y</td>\n",
       "      <td>n</td>\n",
       "      <td>n</td>\n",
       "      <td>n</td>\n",
       "      <td>y</td>\n",
       "      <td>?</td>\n",
       "      <td>y</td>\n",
       "      <td>y</td>\n",
       "      <td>y</td>\n",
       "      <td>n</td>\n",
       "      <td>y</td>\n",
       "    </tr>\n",
       "    <tr>\n",
       "      <th>1</th>\n",
       "      <td>republican</td>\n",
       "      <td>n</td>\n",
       "      <td>y</td>\n",
       "      <td>n</td>\n",
       "      <td>y</td>\n",
       "      <td>y</td>\n",
       "      <td>y</td>\n",
       "      <td>n</td>\n",
       "      <td>n</td>\n",
       "      <td>n</td>\n",
       "      <td>n</td>\n",
       "      <td>n</td>\n",
       "      <td>y</td>\n",
       "      <td>y</td>\n",
       "      <td>y</td>\n",
       "      <td>n</td>\n",
       "      <td>?</td>\n",
       "    </tr>\n",
       "    <tr>\n",
       "      <th>2</th>\n",
       "      <td>democrat</td>\n",
       "      <td>?</td>\n",
       "      <td>y</td>\n",
       "      <td>y</td>\n",
       "      <td>?</td>\n",
       "      <td>y</td>\n",
       "      <td>y</td>\n",
       "      <td>n</td>\n",
       "      <td>n</td>\n",
       "      <td>n</td>\n",
       "      <td>n</td>\n",
       "      <td>y</td>\n",
       "      <td>n</td>\n",
       "      <td>y</td>\n",
       "      <td>y</td>\n",
       "      <td>n</td>\n",
       "      <td>n</td>\n",
       "    </tr>\n",
       "    <tr>\n",
       "      <th>3</th>\n",
       "      <td>democrat</td>\n",
       "      <td>n</td>\n",
       "      <td>y</td>\n",
       "      <td>y</td>\n",
       "      <td>n</td>\n",
       "      <td>?</td>\n",
       "      <td>y</td>\n",
       "      <td>n</td>\n",
       "      <td>n</td>\n",
       "      <td>n</td>\n",
       "      <td>n</td>\n",
       "      <td>y</td>\n",
       "      <td>n</td>\n",
       "      <td>y</td>\n",
       "      <td>n</td>\n",
       "      <td>n</td>\n",
       "      <td>y</td>\n",
       "    </tr>\n",
       "    <tr>\n",
       "      <th>4</th>\n",
       "      <td>democrat</td>\n",
       "      <td>y</td>\n",
       "      <td>y</td>\n",
       "      <td>y</td>\n",
       "      <td>n</td>\n",
       "      <td>y</td>\n",
       "      <td>y</td>\n",
       "      <td>n</td>\n",
       "      <td>n</td>\n",
       "      <td>n</td>\n",
       "      <td>n</td>\n",
       "      <td>y</td>\n",
       "      <td>?</td>\n",
       "      <td>y</td>\n",
       "      <td>y</td>\n",
       "      <td>y</td>\n",
       "      <td>y</td>\n",
       "    </tr>\n",
       "  </tbody>\n",
       "</table>\n",
       "</div>"
      ],
      "text/plain": [
       "           0  1  2  3  4  5  6  7  8  9  10 11 12 13 14 15 16\n",
       "0  republican  n  y  n  y  y  y  n  n  n  y  ?  y  y  y  n  y\n",
       "1  republican  n  y  n  y  y  y  n  n  n  n  n  y  y  y  n  ?\n",
       "2    democrat  ?  y  y  ?  y  y  n  n  n  n  y  n  y  y  n  n\n",
       "3    democrat  n  y  y  n  ?  y  n  n  n  n  y  n  y  n  n  y\n",
       "4    democrat  y  y  y  n  y  y  n  n  n  n  y  ?  y  y  y  y"
      ]
     },
     "execution_count": 98,
     "metadata": {},
     "output_type": "execute_result"
    }
   ],
   "source": [
    "df1.head()"
   ]
  },
  {
   "cell_type": "code",
   "execution_count": 99,
   "id": "cadac911",
   "metadata": {},
   "outputs": [
    {
     "data": {
      "text/plain": [
       "435"
      ]
     },
     "execution_count": 99,
     "metadata": {},
     "output_type": "execute_result"
    }
   ],
   "source": [
    "len(df1.index)"
   ]
  },
  {
   "cell_type": "code",
   "execution_count": 100,
   "id": "52a3e82c",
   "metadata": {},
   "outputs": [
    {
     "name": "stdout",
     "output_type": "stream",
     "text": [
      "<class 'pandas.core.frame.DataFrame'>\n",
      "RangeIndex: 435 entries, 0 to 434\n",
      "Data columns (total 17 columns):\n",
      " #   Column  Non-Null Count  Dtype \n",
      "---  ------  --------------  ----- \n",
      " 0   0       435 non-null    object\n",
      " 1   1       435 non-null    object\n",
      " 2   2       435 non-null    object\n",
      " 3   3       435 non-null    object\n",
      " 4   4       435 non-null    object\n",
      " 5   5       435 non-null    object\n",
      " 6   6       435 non-null    object\n",
      " 7   7       435 non-null    object\n",
      " 8   8       435 non-null    object\n",
      " 9   9       435 non-null    object\n",
      " 10  10      435 non-null    object\n",
      " 11  11      435 non-null    object\n",
      " 12  12      435 non-null    object\n",
      " 13  13      435 non-null    object\n",
      " 14  14      435 non-null    object\n",
      " 15  15      435 non-null    object\n",
      " 16  16      435 non-null    object\n",
      "dtypes: object(17)\n",
      "memory usage: 57.9+ KB\n"
     ]
    }
   ],
   "source": [
    "df1.info()"
   ]
  },
  {
   "cell_type": "code",
   "execution_count": 101,
   "id": "db4d0c26",
   "metadata": {},
   "outputs": [
    {
     "data": {
      "text/html": [
       "<div>\n",
       "<style scoped>\n",
       "    .dataframe tbody tr th:only-of-type {\n",
       "        vertical-align: middle;\n",
       "    }\n",
       "\n",
       "    .dataframe tbody tr th {\n",
       "        vertical-align: top;\n",
       "    }\n",
       "\n",
       "    .dataframe thead th {\n",
       "        text-align: right;\n",
       "    }\n",
       "</style>\n",
       "<table border=\"1\" class=\"dataframe\">\n",
       "  <thead>\n",
       "    <tr style=\"text-align: right;\">\n",
       "      <th></th>\n",
       "      <th>0</th>\n",
       "      <th>1</th>\n",
       "      <th>2</th>\n",
       "      <th>3</th>\n",
       "      <th>4</th>\n",
       "      <th>5</th>\n",
       "      <th>6</th>\n",
       "      <th>7</th>\n",
       "      <th>8</th>\n",
       "      <th>9</th>\n",
       "      <th>10</th>\n",
       "      <th>11</th>\n",
       "      <th>12</th>\n",
       "      <th>13</th>\n",
       "      <th>14</th>\n",
       "      <th>15</th>\n",
       "      <th>16</th>\n",
       "    </tr>\n",
       "  </thead>\n",
       "  <tbody>\n",
       "    <tr>\n",
       "      <th>count</th>\n",
       "      <td>435</td>\n",
       "      <td>435</td>\n",
       "      <td>435</td>\n",
       "      <td>435</td>\n",
       "      <td>435</td>\n",
       "      <td>435</td>\n",
       "      <td>435</td>\n",
       "      <td>435</td>\n",
       "      <td>435</td>\n",
       "      <td>435</td>\n",
       "      <td>435</td>\n",
       "      <td>435</td>\n",
       "      <td>435</td>\n",
       "      <td>435</td>\n",
       "      <td>435</td>\n",
       "      <td>435</td>\n",
       "      <td>435</td>\n",
       "    </tr>\n",
       "    <tr>\n",
       "      <th>unique</th>\n",
       "      <td>2</td>\n",
       "      <td>3</td>\n",
       "      <td>3</td>\n",
       "      <td>3</td>\n",
       "      <td>3</td>\n",
       "      <td>3</td>\n",
       "      <td>3</td>\n",
       "      <td>3</td>\n",
       "      <td>3</td>\n",
       "      <td>3</td>\n",
       "      <td>3</td>\n",
       "      <td>3</td>\n",
       "      <td>3</td>\n",
       "      <td>3</td>\n",
       "      <td>3</td>\n",
       "      <td>3</td>\n",
       "      <td>3</td>\n",
       "    </tr>\n",
       "    <tr>\n",
       "      <th>top</th>\n",
       "      <td>democrat</td>\n",
       "      <td>n</td>\n",
       "      <td>y</td>\n",
       "      <td>y</td>\n",
       "      <td>n</td>\n",
       "      <td>y</td>\n",
       "      <td>y</td>\n",
       "      <td>y</td>\n",
       "      <td>y</td>\n",
       "      <td>y</td>\n",
       "      <td>y</td>\n",
       "      <td>n</td>\n",
       "      <td>n</td>\n",
       "      <td>y</td>\n",
       "      <td>y</td>\n",
       "      <td>n</td>\n",
       "      <td>y</td>\n",
       "    </tr>\n",
       "    <tr>\n",
       "      <th>freq</th>\n",
       "      <td>267</td>\n",
       "      <td>236</td>\n",
       "      <td>195</td>\n",
       "      <td>253</td>\n",
       "      <td>247</td>\n",
       "      <td>212</td>\n",
       "      <td>272</td>\n",
       "      <td>239</td>\n",
       "      <td>242</td>\n",
       "      <td>207</td>\n",
       "      <td>216</td>\n",
       "      <td>264</td>\n",
       "      <td>233</td>\n",
       "      <td>209</td>\n",
       "      <td>248</td>\n",
       "      <td>233</td>\n",
       "      <td>269</td>\n",
       "    </tr>\n",
       "  </tbody>\n",
       "</table>\n",
       "</div>"
      ],
      "text/plain": [
       "              0    1    2    3    4    5    6    7    8    9    10   11   12  \\\n",
       "count        435  435  435  435  435  435  435  435  435  435  435  435  435   \n",
       "unique         2    3    3    3    3    3    3    3    3    3    3    3    3   \n",
       "top     democrat    n    y    y    n    y    y    y    y    y    y    n    n   \n",
       "freq         267  236  195  253  247  212  272  239  242  207  216  264  233   \n",
       "\n",
       "         13   14   15   16  \n",
       "count   435  435  435  435  \n",
       "unique    3    3    3    3  \n",
       "top       y    y    n    y  \n",
       "freq    209  248  233  269  "
      ]
     },
     "execution_count": 101,
     "metadata": {},
     "output_type": "execute_result"
    }
   ],
   "source": [
    "df1.describe()"
   ]
  },
  {
   "cell_type": "code",
   "execution_count": 103,
   "id": "11f6d9a6",
   "metadata": {},
   "outputs": [],
   "source": [
    "df1.replace(['n', 'y', '?'], [0, 1, 999], inplace = True)"
   ]
  },
  {
   "cell_type": "code",
   "execution_count": 104,
   "id": "638764f2",
   "metadata": {},
   "outputs": [],
   "source": [
    "for column in range(1,17):\n",
    "    mode = int(df1[column].mode())\n",
    "    df1[column] = df1[column].replace(999, mode)"
   ]
  },
  {
   "cell_type": "code",
   "execution_count": 105,
   "id": "2f1f88b9",
   "metadata": {},
   "outputs": [
    {
     "data": {
      "text/html": [
       "<div>\n",
       "<style scoped>\n",
       "    .dataframe tbody tr th:only-of-type {\n",
       "        vertical-align: middle;\n",
       "    }\n",
       "\n",
       "    .dataframe tbody tr th {\n",
       "        vertical-align: top;\n",
       "    }\n",
       "\n",
       "    .dataframe thead th {\n",
       "        text-align: right;\n",
       "    }\n",
       "</style>\n",
       "<table border=\"1\" class=\"dataframe\">\n",
       "  <thead>\n",
       "    <tr style=\"text-align: right;\">\n",
       "      <th></th>\n",
       "      <th>0</th>\n",
       "      <th>1</th>\n",
       "      <th>2</th>\n",
       "      <th>3</th>\n",
       "      <th>4</th>\n",
       "      <th>5</th>\n",
       "      <th>6</th>\n",
       "      <th>7</th>\n",
       "      <th>8</th>\n",
       "      <th>9</th>\n",
       "      <th>10</th>\n",
       "      <th>11</th>\n",
       "      <th>12</th>\n",
       "      <th>13</th>\n",
       "      <th>14</th>\n",
       "      <th>15</th>\n",
       "      <th>16</th>\n",
       "    </tr>\n",
       "  </thead>\n",
       "  <tbody>\n",
       "    <tr>\n",
       "      <th>0</th>\n",
       "      <td>republican</td>\n",
       "      <td>0</td>\n",
       "      <td>1</td>\n",
       "      <td>0</td>\n",
       "      <td>1</td>\n",
       "      <td>1</td>\n",
       "      <td>1</td>\n",
       "      <td>0</td>\n",
       "      <td>0</td>\n",
       "      <td>0</td>\n",
       "      <td>1</td>\n",
       "      <td>0</td>\n",
       "      <td>1</td>\n",
       "      <td>1</td>\n",
       "      <td>1</td>\n",
       "      <td>0</td>\n",
       "      <td>1</td>\n",
       "    </tr>\n",
       "    <tr>\n",
       "      <th>1</th>\n",
       "      <td>republican</td>\n",
       "      <td>0</td>\n",
       "      <td>1</td>\n",
       "      <td>0</td>\n",
       "      <td>1</td>\n",
       "      <td>1</td>\n",
       "      <td>1</td>\n",
       "      <td>0</td>\n",
       "      <td>0</td>\n",
       "      <td>0</td>\n",
       "      <td>0</td>\n",
       "      <td>0</td>\n",
       "      <td>1</td>\n",
       "      <td>1</td>\n",
       "      <td>1</td>\n",
       "      <td>0</td>\n",
       "      <td>1</td>\n",
       "    </tr>\n",
       "    <tr>\n",
       "      <th>2</th>\n",
       "      <td>democrat</td>\n",
       "      <td>0</td>\n",
       "      <td>1</td>\n",
       "      <td>1</td>\n",
       "      <td>0</td>\n",
       "      <td>1</td>\n",
       "      <td>1</td>\n",
       "      <td>0</td>\n",
       "      <td>0</td>\n",
       "      <td>0</td>\n",
       "      <td>0</td>\n",
       "      <td>1</td>\n",
       "      <td>0</td>\n",
       "      <td>1</td>\n",
       "      <td>1</td>\n",
       "      <td>0</td>\n",
       "      <td>0</td>\n",
       "    </tr>\n",
       "    <tr>\n",
       "      <th>3</th>\n",
       "      <td>democrat</td>\n",
       "      <td>0</td>\n",
       "      <td>1</td>\n",
       "      <td>1</td>\n",
       "      <td>0</td>\n",
       "      <td>1</td>\n",
       "      <td>1</td>\n",
       "      <td>0</td>\n",
       "      <td>0</td>\n",
       "      <td>0</td>\n",
       "      <td>0</td>\n",
       "      <td>1</td>\n",
       "      <td>0</td>\n",
       "      <td>1</td>\n",
       "      <td>0</td>\n",
       "      <td>0</td>\n",
       "      <td>1</td>\n",
       "    </tr>\n",
       "    <tr>\n",
       "      <th>4</th>\n",
       "      <td>democrat</td>\n",
       "      <td>1</td>\n",
       "      <td>1</td>\n",
       "      <td>1</td>\n",
       "      <td>0</td>\n",
       "      <td>1</td>\n",
       "      <td>1</td>\n",
       "      <td>0</td>\n",
       "      <td>0</td>\n",
       "      <td>0</td>\n",
       "      <td>0</td>\n",
       "      <td>1</td>\n",
       "      <td>0</td>\n",
       "      <td>1</td>\n",
       "      <td>1</td>\n",
       "      <td>1</td>\n",
       "      <td>1</td>\n",
       "    </tr>\n",
       "  </tbody>\n",
       "</table>\n",
       "</div>"
      ],
      "text/plain": [
       "           0   1   2   3   4   5   6   7   8   9   10  11  12  13  14  15  16\n",
       "0  republican   0   1   0   1   1   1   0   0   0   1   0   1   1   1   0   1\n",
       "1  republican   0   1   0   1   1   1   0   0   0   0   0   1   1   1   0   1\n",
       "2    democrat   0   1   1   0   1   1   0   0   0   0   1   0   1   1   0   0\n",
       "3    democrat   0   1   1   0   1   1   0   0   0   0   1   0   1   0   0   1\n",
       "4    democrat   1   1   1   0   1   1   0   0   0   0   1   0   1   1   1   1"
      ]
     },
     "execution_count": 105,
     "metadata": {},
     "output_type": "execute_result"
    }
   ],
   "source": [
    "df1.head()"
   ]
  },
  {
   "cell_type": "code",
   "execution_count": 128,
   "id": "04cd35b7",
   "metadata": {},
   "outputs": [],
   "source": [
    "X = df1.iloc[:, 1:].values\n",
    "y = df1.iloc[:, 0].values"
   ]
  },
  {
   "cell_type": "code",
   "execution_count": 288,
   "id": "907ae0f5",
   "metadata": {},
   "outputs": [],
   "source": [
    "X_train, X_test, y_train, y_test = train_test_split(X, y, test_size = 0.5)"
   ]
  },
  {
   "cell_type": "code",
   "execution_count": 135,
   "id": "e3b5912e",
   "metadata": {},
   "outputs": [
    {
     "data": {
      "text/plain": [
       "DecisionTreeClassifier(max_depth=3)"
      ]
     },
     "execution_count": 135,
     "metadata": {},
     "output_type": "execute_result"
    }
   ],
   "source": [
    "model = DecisionTreeClassifier(max_depth=3)\n",
    "model.fit(X_train, y_train)"
   ]
  },
  {
   "cell_type": "code",
   "execution_count": 136,
   "id": "1216d5de",
   "metadata": {},
   "outputs": [],
   "source": [
    "#Predict the value using X train for accuracy comparision\n",
    "y_pred_train = model.predict(X_train)"
   ]
  },
  {
   "cell_type": "code",
   "execution_count": 137,
   "id": "6e75e14a",
   "metadata": {},
   "outputs": [],
   "source": [
    "#Predict the values \n",
    "y_pred = model.predict(X_test)"
   ]
  },
  {
   "cell_type": "markdown",
   "id": "7c50226c",
   "metadata": {},
   "source": [
    "## Runs where the training data = 50%"
   ]
  },
  {
   "cell_type": "code",
   "execution_count": 288,
   "id": "931a6b96",
   "metadata": {},
   "outputs": [],
   "source": [
    "X_train, X_test, y_train, y_test = train_test_split(X, y, test_size = 0.5)"
   ]
  },
  {
   "cell_type": "code",
   "execution_count": 161,
   "id": "ea399a02",
   "metadata": {},
   "outputs": [
    {
     "name": "stdout",
     "output_type": "stream",
     "text": [
      "Training set score: 0.9631\n",
      "Test set score: 0.9541\n"
     ]
    }
   ],
   "source": [
    "# 1st run\n",
    "train1_50 = model.score(X_train, y_train)\n",
    "test1_50  = model.score(X_test, y_test)\n",
    "print('Training set score: {:.4f}'.format(train1_50))\n",
    "print('Test set score: {:.4f}'.format(test1_50))"
   ]
  },
  {
   "cell_type": "code",
   "execution_count": 163,
   "id": "796de1b8",
   "metadata": {},
   "outputs": [
    {
     "name": "stdout",
     "output_type": "stream",
     "text": [
      "Training set score: 0.9493\n",
      "Test set score: 0.9679\n"
     ]
    }
   ],
   "source": [
    "# 2nd run\n",
    "train2_50 = model.score(X_train, y_train)\n",
    "test2_50  = model.score(X_test, y_test)\n",
    "print('Training set score: {:.4f}'.format(train2_50))\n",
    "print('Test set score: {:.4f}'.format(test2_50))"
   ]
  },
  {
   "cell_type": "code",
   "execution_count": 165,
   "id": "47ced02d",
   "metadata": {},
   "outputs": [
    {
     "name": "stdout",
     "output_type": "stream",
     "text": [
      "Training set score: 0.9585\n",
      "Test set score: 0.9587\n"
     ]
    }
   ],
   "source": [
    "# 3rd run\n",
    "train3_50 = model.score(X_train, y_train)\n",
    "test3_50  = model.score(X_test, y_test)\n",
    "print('Training set score: {:.4f}'.format(train3_50))\n",
    "print('Test set score: {:.4f}'.format(test3_50))"
   ]
  },
  {
   "cell_type": "code",
   "execution_count": 167,
   "id": "40dc007a",
   "metadata": {},
   "outputs": [
    {
     "name": "stdout",
     "output_type": "stream",
     "text": [
      "Training set score: 0.9539\n",
      "Test set score: 0.9633\n"
     ]
    }
   ],
   "source": [
    "# 4th run\n",
    "train4_50 = model.score(X_train, y_train)\n",
    "test4_50  = model.score(X_test, y_test)\n",
    "print('Training set score: {:.4f}'.format(train4_50))\n",
    "print('Test set score: {:.4f}'.format(test4_50))"
   ]
  },
  {
   "cell_type": "code",
   "execution_count": 170,
   "id": "241d1f31",
   "metadata": {},
   "outputs": [
    {
     "name": "stdout",
     "output_type": "stream",
     "text": [
      "Training set score: 0.9447\n",
      "Test set score: 0.9725\n"
     ]
    }
   ],
   "source": [
    "# 5th run\n",
    "train5_50 = model.score(X_train, y_train)\n",
    "test5_50  = model.score(X_test, y_test)\n",
    "print('Training set score: {:.4f}'.format(train5_50))\n",
    "print('Test set score: {:.4f}'.format(test5_50))"
   ]
  },
  {
   "cell_type": "code",
   "execution_count": 206,
   "id": "10fb0a2c",
   "metadata": {},
   "outputs": [
    {
     "name": "stdout",
     "output_type": "stream",
     "text": [
      "0.9539170506912443  &  0.963302752293578\n"
     ]
    }
   ],
   "source": [
    "avgTrainScore50 = (train1_50+train2_50+train3_50+train4_50+train5_50)/5\n",
    "avgTestScore50  = (test1_50 +test2_50 +test3_50 +test4_50 +test5_50)/5\n",
    "print(avgTrainScore50, \" & \", avgTestScore50)"
   ]
  },
  {
   "cell_type": "code",
   "execution_count": 289,
   "id": "83cce402",
   "metadata": {},
   "outputs": [
    {
     "data": {
      "image/png": "[encoded data removed]",
      "text/plain": [
       "<Figure size 864x576 with 1 Axes>"
      ]
     },
     "metadata": {
      "needs_background": "light"
     },
     "output_type": "display_data"
    }
   ],
   "source": [
    "plt.figure(figsize=(12,8))\n",
    "tree.plot_tree(model.fit(X_train, y_train));\n",
    "# number of nodes = 13"
   ]
  },
  {
   "cell_type": "markdown",
   "id": "75941425",
   "metadata": {},
   "source": [
    "## Runs where the training data = 60%"
   ]
  },
  {
   "cell_type": "code",
   "execution_count": 184,
   "id": "baf4646b",
   "metadata": {},
   "outputs": [],
   "source": [
    "X_train, X_test, y_train, y_test = train_test_split(X, y, test_size = 0.4)"
   ]
  },
  {
   "cell_type": "code",
   "execution_count": 175,
   "id": "89ee18d6",
   "metadata": {},
   "outputs": [
    {
     "name": "stdout",
     "output_type": "stream",
     "text": [
      "Training set score: 0.9579\n",
      "Test set score: 0.9598\n"
     ]
    }
   ],
   "source": [
    "# 1st run\n",
    "train1_60 = model.score(X_train, y_train)\n",
    "test1_60  = model.score(X_test, y_test)\n",
    "print('Training set score: {:.4f}'.format(train1_60))\n",
    "print('Test set score: {:.4f}'.format(test1_60))"
   ]
  },
  {
   "cell_type": "code",
   "execution_count": 177,
   "id": "2c307bbd",
   "metadata": {},
   "outputs": [
    {
     "name": "stdout",
     "output_type": "stream",
     "text": [
      "Training set score: 0.9464\n",
      "Test set score: 0.9770\n"
     ]
    }
   ],
   "source": [
    "# 2nd run\n",
    "train2_60 = model.score(X_train, y_train)\n",
    "test2_60  = model.score(X_test, y_test)\n",
    "print('Training set score: {:.4f}'.format(train2_60))\n",
    "print('Test set score: {:.4f}'.format(test2_60))"
   ]
  },
  {
   "cell_type": "code",
   "execution_count": 181,
   "id": "8ef2c81b",
   "metadata": {},
   "outputs": [
    {
     "name": "stdout",
     "output_type": "stream",
     "text": [
      "Training set score: 0.9502\n",
      "Test set score: 0.9713\n"
     ]
    }
   ],
   "source": [
    "# 3rd run\n",
    "train3_60 = model.score(X_train, y_train)\n",
    "test3_60  = model.score(X_test, y_test)\n",
    "print('Training set score: {:.4f}'.format(train3_60))\n",
    "print('Test set score: {:.4f}'.format(test3_60))"
   ]
  },
  {
   "cell_type": "code",
   "execution_count": 183,
   "id": "8f291f34",
   "metadata": {},
   "outputs": [
    {
     "name": "stdout",
     "output_type": "stream",
     "text": [
      "Training set score: 0.9617\n",
      "Test set score: 0.9540\n"
     ]
    }
   ],
   "source": [
    "# 4th run\n",
    "train4_60 = model.score(X_train, y_train)\n",
    "test4_60  = model.score(X_test, y_test)\n",
    "print('Training set score: {:.4f}'.format(train4_60))\n",
    "print('Test set score: {:.4f}'.format(test4_60))"
   ]
  },
  {
   "cell_type": "code",
   "execution_count": 185,
   "id": "b7a5fcfe",
   "metadata": {
    "scrolled": true
   },
   "outputs": [
    {
     "name": "stdout",
     "output_type": "stream",
     "text": [
      "Training set score: 0.9617\n",
      "Test set score: 0.9540\n"
     ]
    }
   ],
   "source": [
    "# 5th run\n",
    "train5_60 = model.score(X_train, y_train)\n",
    "test5_60  = model.score(X_test, y_test)\n",
    "print('Training set score: {:.4f}'.format(train5_60))\n",
    "print('Test set score: {:.4f}'.format(test5_60))"
   ]
  },
  {
   "cell_type": "code",
   "execution_count": 207,
   "id": "db90eefd",
   "metadata": {},
   "outputs": [
    {
     "name": "stdout",
     "output_type": "stream",
     "text": [
      "0.9555555555555555  &  0.9632183908045977\n"
     ]
    }
   ],
   "source": [
    "avgTrainScore60 = (train1_60+train2_60+train3_60+train4_60+train5_60)/5\n",
    "avgTestScore60  = (test1_60 +test2_60 +test3_60 +test4_60 +test5_60)/5\n",
    "print(avgTrainScore60, \" & \", avgTestScore60)"
   ]
  },
  {
   "cell_type": "code",
   "execution_count": 186,
   "id": "5fbf2ba2",
   "metadata": {},
   "outputs": [
    {
     "data": {
      "image/png": "[encoded data removed]",
      "text/plain": [
       "<Figure size 864x576 with 1 Axes>"
      ]
     },
     "metadata": {
      "needs_background": "light"
     },
     "output_type": "display_data"
    }
   ],
   "source": [
    "plt.figure(figsize=(12,8))\n",
    "tree.plot_tree(model.fit(X_train, y_train));\n",
    "# number of nodes = 11"
   ]
  },
  {
   "cell_type": "markdown",
   "id": "e67f1088",
   "metadata": {},
   "source": [
    "## Runs where the training data = 70%"
   ]
  },
  {
   "cell_type": "code",
   "execution_count": 200,
   "id": "542a50c7",
   "metadata": {},
   "outputs": [],
   "source": [
    "X_train, X_test, y_train, y_test = train_test_split(X, y, test_size = 0.3)"
   ]
  },
  {
   "cell_type": "code",
   "execution_count": 189,
   "id": "97dd5766",
   "metadata": {},
   "outputs": [
    {
     "name": "stdout",
     "output_type": "stream",
     "text": [
      "Training set score: 0.9539\n",
      "Test set score: 0.9542\n"
     ]
    }
   ],
   "source": [
    "# 1st run\n",
    "train1_70 = model.score(X_train, y_train)\n",
    "test1_70  = model.score(X_test, y_test)\n",
    "print('Training set score: {:.4f}'.format(train1_70))\n",
    "print('Test set score: {:.4f}'.format(test1_70))"
   ]
  },
  {
   "cell_type": "code",
   "execution_count": 191,
   "id": "356d4cf9",
   "metadata": {},
   "outputs": [
    {
     "name": "stdout",
     "output_type": "stream",
     "text": [
      "Training set score: 0.9507\n",
      "Test set score: 0.9618\n"
     ]
    }
   ],
   "source": [
    "# 2nd run\n",
    "train2_70 = model.score(X_train, y_train)\n",
    "test2_70  = model.score(X_test, y_test)\n",
    "print('Training set score: {:.4f}'.format(train2_70))\n",
    "print('Test set score: {:.4f}'.format(test2_70))"
   ]
  },
  {
   "cell_type": "code",
   "execution_count": 193,
   "id": "3f1e38e1",
   "metadata": {},
   "outputs": [
    {
     "name": "stdout",
     "output_type": "stream",
     "text": [
      "Training set score: 0.9671\n",
      "Test set score: 0.9237\n"
     ]
    }
   ],
   "source": [
    "# 3rd run\n",
    "train3_70 = model.score(X_train, y_train)\n",
    "test3_70  = model.score(X_test, y_test)\n",
    "print('Training set score: {:.4f}'.format(train3_70))\n",
    "print('Test set score: {:.4f}'.format(test3_70))"
   ]
  },
  {
   "cell_type": "code",
   "execution_count": 197,
   "id": "39bc4c16",
   "metadata": {},
   "outputs": [
    {
     "name": "stdout",
     "output_type": "stream",
     "text": [
      "Training set score: 0.9441\n",
      "Test set score: 0.9771\n"
     ]
    }
   ],
   "source": [
    "# 4th run\n",
    "train4_70 = model.score(X_train, y_train)\n",
    "test4_70  = model.score(X_test, y_test)\n",
    "print('Training set score: {:.4f}'.format(train4_70))\n",
    "print('Test set score: {:.4f}'.format(test4_70))"
   ]
  },
  {
   "cell_type": "code",
   "execution_count": 201,
   "id": "13351644",
   "metadata": {
    "scrolled": true
   },
   "outputs": [
    {
     "name": "stdout",
     "output_type": "stream",
     "text": [
      "Training set score: 0.9507\n",
      "Test set score: 0.9618\n"
     ]
    }
   ],
   "source": [
    "# 5th run\n",
    "train5_70 = model.score(X_train, y_train)\n",
    "test5_70  = model.score(X_test, y_test)\n",
    "print('Training set score: {:.4f}'.format(train5_70))\n",
    "print('Test set score: {:.4f}'.format(test5_70))"
   ]
  },
  {
   "cell_type": "code",
   "execution_count": 208,
   "id": "379da495",
   "metadata": {},
   "outputs": [
    {
     "name": "stdout",
     "output_type": "stream",
     "text": [
      "0.9532894736842106  &  0.9557251908396946\n"
     ]
    }
   ],
   "source": [
    "avgTrainScore70 = (train1_70+train2_70+train3_70+train4_70+train5_70)/5\n",
    "avgTestScore70  = (test1_70 +test2_70 +test3_70 +test4_70 +test5_70)/5\n",
    "print(avgTrainScore70, \" & \", avgTestScore70)"
   ]
  },
  {
   "cell_type": "code",
   "execution_count": 209,
   "id": "73961484",
   "metadata": {
    "scrolled": false
   },
   "outputs": [
    {
     "data": {
      "image/png": "[encoded data removed]",
      "text/plain": [
       "<Figure size 864x576 with 1 Axes>"
      ]
     },
     "metadata": {
      "needs_background": "light"
     },
     "output_type": "display_data"
    }
   ],
   "source": [
    "plt.figure(figsize=(12,8))\n",
    "tree.plot_tree(model.fit(X_train, y_train));\n",
    "# number of nodes = 15"
   ]
  },
  {
   "cell_type": "markdown",
   "id": "54d2e07f",
   "metadata": {},
   "source": [
    "## Runs where the training data = 80%"
   ]
  },
  {
   "cell_type": "code",
   "execution_count": 223,
   "id": "2d77d406",
   "metadata": {},
   "outputs": [],
   "source": [
    "X_train, X_test, y_train, y_test = train_test_split(X, y, test_size = 0.2)"
   ]
  },
  {
   "cell_type": "code",
   "execution_count": 211,
   "id": "3f26b41d",
   "metadata": {},
   "outputs": [
    {
     "name": "stdout",
     "output_type": "stream",
     "text": [
      "Training set score: 0.9626\n",
      "Test set score: 0.9655\n"
     ]
    }
   ],
   "source": [
    "# 1st run\n",
    "train1_80 = model.score(X_train, y_train)\n",
    "test1_80  = model.score(X_test, y_test)\n",
    "print('Training set score: {:.4f}'.format(train1_80))\n",
    "print('Test set score: {:.4f}'.format(test1_80))"
   ]
  },
  {
   "cell_type": "code",
   "execution_count": 214,
   "id": "07e3251f",
   "metadata": {},
   "outputs": [
    {
     "name": "stdout",
     "output_type": "stream",
     "text": [
      "Training set score: 0.9598\n",
      "Test set score: 0.9770\n"
     ]
    }
   ],
   "source": [
    "# 2nd run\n",
    "train2_80 = model.score(X_train, y_train)\n",
    "test2_80  = model.score(X_test, y_test)\n",
    "print('Training set score: {:.4f}'.format(train2_80))\n",
    "print('Test set score: {:.4f}'.format(test2_80))"
   ]
  },
  {
   "cell_type": "code",
   "execution_count": 216,
   "id": "ce416200",
   "metadata": {},
   "outputs": [
    {
     "name": "stdout",
     "output_type": "stream",
     "text": [
      "Training set score: 0.9626\n",
      "Test set score: 0.9655\n"
     ]
    }
   ],
   "source": [
    "# 3rd run\n",
    "train3_80 = model.score(X_train, y_train)\n",
    "test3_80  = model.score(X_test, y_test)\n",
    "print('Training set score: {:.4f}'.format(train3_80))\n",
    "print('Test set score: {:.4f}'.format(test3_80))"
   ]
  },
  {
   "cell_type": "code",
   "execution_count": 220,
   "id": "02173f65",
   "metadata": {},
   "outputs": [
    {
     "name": "stdout",
     "output_type": "stream",
     "text": [
      "Training set score: 0.9540\n",
      "Test set score: 1.0000\n"
     ]
    }
   ],
   "source": [
    "# 4th run\n",
    "train4_80 = model.score(X_train, y_train)\n",
    "test4_80  = model.score(X_test, y_test)\n",
    "print('Training set score: {:.4f}'.format(train4_80))\n",
    "print('Test set score: {:.4f}'.format(test4_80))"
   ]
  },
  {
   "cell_type": "code",
   "execution_count": 224,
   "id": "eddaa1bd",
   "metadata": {
    "scrolled": true
   },
   "outputs": [
    {
     "name": "stdout",
     "output_type": "stream",
     "text": [
      "Training set score: 0.9569\n",
      "Test set score: 0.9885\n"
     ]
    }
   ],
   "source": [
    "# 5th run\n",
    "train5_80 = model.score(X_train, y_train)\n",
    "test5_80  = model.score(X_test, y_test)\n",
    "print('Training set score: {:.4f}'.format(train5_80))\n",
    "print('Test set score: {:.4f}'.format(test5_80))"
   ]
  },
  {
   "cell_type": "code",
   "execution_count": 225,
   "id": "e3106d89",
   "metadata": {
    "scrolled": true
   },
   "outputs": [
    {
     "name": "stdout",
     "output_type": "stream",
     "text": [
      "0.9591954022988507  &  0.9793103448275863\n"
     ]
    }
   ],
   "source": [
    "avgTrainScore80 = (train1_80+train2_80+train3_80+train4_80+train5_80)/5\n",
    "avgTestScore80  = (test1_80 +test2_80 +test3_80 +test4_80 +test5_80)/5\n",
    "print(avgTrainScore80, \" & \", avgTestScore80)"
   ]
  },
  {
   "cell_type": "code",
   "execution_count": 287,
   "id": "f5f12b1c",
   "metadata": {
    "scrolled": false
   },
   "outputs": [
    {
     "data": {
      "image/png": "[encoded data removed]",
      "text/plain": [
       "<Figure size 864x576 with 1 Axes>"
      ]
     },
     "metadata": {
      "needs_background": "light"
     },
     "output_type": "display_data"
    }
   ],
   "source": [
    "plt.figure(figsize=(12,8))\n",
    "tree.plot_tree(model.fit(X_train, y_train));\n",
    "# number of nodes = 15"
   ]
  },
  {
   "cell_type": "code",
   "execution_count": 255,
   "id": "4f53b856",
   "metadata": {},
   "outputs": [],
   "source": [
    "avgTrainScore = [avgTrainScore50, avgTrainScore60, avgTrainScore70, avgTrainScore80]\n",
    "avgTestScore  = [avgTestScore50, avgTestScore60, avgTestScore70, avgTestScore80]"
   ]
  },
  {
   "cell_type": "code",
   "execution_count": 292,
   "id": "1e454b7c",
   "metadata": {},
   "outputs": [
    {
     "data": {
      "text/html": [
       "<div>\n",
       "<style scoped>\n",
       "    .dataframe tbody tr th:only-of-type {\n",
       "        vertical-align: middle;\n",
       "    }\n",
       "\n",
       "    .dataframe tbody tr th {\n",
       "        vertical-align: top;\n",
       "    }\n",
       "\n",
       "    .dataframe thead th {\n",
       "        text-align: right;\n",
       "    }\n",
       "</style>\n",
       "<table border=\"1\" class=\"dataframe\">\n",
       "  <thead>\n",
       "    <tr style=\"text-align: right;\">\n",
       "      <th></th>\n",
       "      <th>TrainingDataSize</th>\n",
       "      <th>NumOfNodes</th>\n",
       "      <th>avgTrainScore</th>\n",
       "      <th>avgTestScore</th>\n",
       "    </tr>\n",
       "  </thead>\n",
       "  <tbody>\n",
       "    <tr>\n",
       "      <th>0</th>\n",
       "      <td>50%</td>\n",
       "      <td>13</td>\n",
       "      <td>0.953917</td>\n",
       "      <td>0.963303</td>\n",
       "    </tr>\n",
       "    <tr>\n",
       "      <th>1</th>\n",
       "      <td>60%</td>\n",
       "      <td>11</td>\n",
       "      <td>0.955556</td>\n",
       "      <td>0.963218</td>\n",
       "    </tr>\n",
       "    <tr>\n",
       "      <th>2</th>\n",
       "      <td>70%</td>\n",
       "      <td>15</td>\n",
       "      <td>0.953289</td>\n",
       "      <td>0.955725</td>\n",
       "    </tr>\n",
       "    <tr>\n",
       "      <th>3</th>\n",
       "      <td>80%</td>\n",
       "      <td>15</td>\n",
       "      <td>0.959195</td>\n",
       "      <td>0.979310</td>\n",
       "    </tr>\n",
       "  </tbody>\n",
       "</table>\n",
       "</div>"
      ],
      "text/plain": [
       "  TrainingDataSize  NumOfNodes  avgTrainScore  avgTestScore\n",
       "0              50%          13       0.953917      0.963303\n",
       "1              60%          11       0.955556      0.963218\n",
       "2              70%          15       0.953289      0.955725\n",
       "3              80%          15       0.959195      0.979310"
      ]
     },
     "execution_count": 292,
     "metadata": {},
     "output_type": "execute_result"
    }
   ],
   "source": [
    "d = {'TrainingDataSize':['50%','60%','70%','80%'], 'NumOfNodes':[13, 11, 15, 15], 'avgTrainScore': avgTrainScore, 'avgTestScore': avgTestScore}\n",
    "df = pd.DataFrame(data=d)\n",
    "df"
   ]
  },
  {
   "cell_type": "code",
   "execution_count": 293,
   "id": "30bd15af",
   "metadata": {},
   "outputs": [
    {
     "data": {
      "image/png": "[encoded data removed]",
      "text/plain": [
       "<Figure size 1296x1080 with 2 Axes>"
      ]
     },
     "metadata": {
      "needs_background": "light"
     },
     "output_type": "display_data"
    }
   ],
   "source": [
    "plt.figure(figsize=(18,15))\n",
    "\n",
    "plt.subplot(2, 2, 1)\n",
    "sns.barplot(data = df, x=\"TrainingDataSize\", y=\"avgTrainScore\")\n",
    "\n",
    "plt.subplot(2, 2, 2)\n",
    "sns.barplot(data = df, x=\"TrainingDataSize\", y=\"avgTestScore\");"
   ]
  },
  {
   "cell_type": "markdown",
   "id": "4e6ac18f",
   "metadata": {},
   "source": [
    "## Looking at the plots, it's almost always the same output even if we used different training data size!"
   ]
  },
  {
   "cell_type": "code",
   "execution_count": 312,
   "id": "3f0e9316",
   "metadata": {},
   "outputs": [
    {
     "data": {
      "image/png": "[encoded data removed]",
      "text/plain": [
       "<Figure size 1296x1080 with 1 Axes>"
      ]
     },
     "metadata": {
      "needs_background": "light"
     },
     "output_type": "display_data"
    }
   ],
   "source": [
    "plt.figure(figsize=(18,15))\n",
    "\n",
    "plt.subplot(2, 2, 1)\n",
    "sns.barplot(data = df, x=\"TrainingDataSize\", y=\"NumOfNodes\", color = 'g');"
   ]
  },
  {
   "cell_type": "markdown",
   "id": "fc0e5a1e",
   "metadata": {},
   "source": [
    "## Number of nodes does vary as the training data size changes"
   ]
  },
  {
   "cell_type": "code",
   "execution_count": null,
   "id": "98a66835",
   "metadata": {},
   "outputs": [],
   "source": []
  }
 ],
 "metadata": {
  "kernelspec": {
   "display_name": "Python 3 (ipykernel)",
   "language": "python",
   "name": "python3"
  },
  "language_info": {
   "codemirror_mode": {
    "name": "ipython",
    "version": 3
   },
   "file_extension": ".py",
   "mimetype": "text/x-python",
   "name": "python",
   "nbconvert_exporter": "python",
   "pygments_lexer": "ipython3",
   "version": "3.9.7"
  }
 },
 "nbformat": 4,
 "nbformat_minor": 5
}
